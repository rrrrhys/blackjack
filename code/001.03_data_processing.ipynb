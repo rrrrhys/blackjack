{
 "cells": [
  {
   "cell_type": "markdown",
   "metadata": {},
   "source": [
    "# 001.03 // data processing"
   ]
  },
  {
   "cell_type": "markdown",
   "metadata": {},
   "source": [
    "[convert annotations to txt files for keras implementation of YOLOv3]"
   ]
  },
  {
   "cell_type": "code",
   "execution_count": null,
   "metadata": {},
   "outputs": [],
   "source": [
    "import os\n",
    "import shutil\n",
    "import pandas as pd"
   ]
  },
  {
   "cell_type": "code",
   "execution_count": null,
   "metadata": {},
   "outputs": [],
   "source": [
    "# move labels to designated file\n",
    "\n",
    "def move_files(path_in, path_out, file_type):\n",
    "\n",
    "    filenames = sorted([f for f in os.listdir(path_in) if file_type in f])\n",
    "    \n",
    "    for f in filenames:\n",
    "        shutil.move(f'{path_in}/{f}', f'{path_out}{f}')"
   ]
  },
  {
   "cell_type": "code",
   "execution_count": null,
   "metadata": {},
   "outputs": [],
   "source": [
    "move_files('../data/images/', '../data/labels/', '.xml')"
   ]
  },
  {
   "cell_type": "code",
   "execution_count": null,
   "metadata": {},
   "outputs": [],
   "source": [
    "# convert xml annotations into csv\n",
    "\n",
    "!python xml_to_csv.py"
   ]
  },
  {
   "cell_type": "code",
   "execution_count": null,
   "metadata": {},
   "outputs": [],
   "source": [
    "df = pd.read_csv('../data/labels/_annotations.csv')\n",
    "df.head()"
   ]
  },
  {
   "cell_type": "code",
   "execution_count": null,
   "metadata": {},
   "outputs": [],
   "source": [
    "# confirm 52 classes\n",
    "\n",
    "classes = sorted(df['class'].unique())\n",
    "\n",
    "ids = {}\n",
    "i = 0\n",
    "\n",
    "for c in classes:\n",
    "    ids[c] = i\n",
    "    i += 1\n",
    "    \n",
    "len(classes)"
   ]
  },
  {
   "cell_type": "code",
   "execution_count": null,
   "metadata": {},
   "outputs": [],
   "source": [
    "# create classes document\n",
    "\n",
    "classes_txt = open('../assets/classes.txt', 'w+')\n",
    "\n",
    "[i for i in ids.keys()]\n",
    "\n",
    "for i in ids.keys():\n",
    "    classes_txt.write(f'{i}\\n')\n",
    "\n",
    "classes_txt.close()"
   ]
  },
  {
   "cell_type": "code",
   "execution_count": null,
   "metadata": {},
   "outputs": [],
   "source": [
    "# if using grayscale images, change first line to: \n",
    "# df['file_path'] = [f'../data/images_gs/{i}' for i in df['filename']]\n",
    "\n",
    "df['file_path'] = [f'../data/images/{i}' for i in df['filename']]\n",
    "\n",
    "df['class_id'] = df['class'].map(ids)\n",
    "\n",
    "df = df.sort_values(['filename', 'class_id']).reset_index(drop = True)"
   ]
  },
  {
   "cell_type": "code",
   "execution_count": null,
   "metadata": {},
   "outputs": [],
   "source": [
    "box_features = ['file_path', 'xmin', 'ymin', 'xmax', 'ymax', 'class_id']\n",
    "\n",
    "boxes = df[box_features].applymap(str)\n",
    "\n",
    "for i in box_features:\n",
    "    if box_features.index(i) in range(1, 5):\n",
    "        boxes[i] = boxes[i] + ','\n",
    "    else:\n",
    "        boxes[i] = boxes[i] + ' '"
   ]
  },
  {
   "cell_type": "code",
   "execution_count": null,
   "metadata": {},
   "outputs": [],
   "source": [
    "# create final annotations document\n",
    "\n",
    "samples = boxes['file_path'].unique()\n",
    "annot_txt = open('../assets/annotations.txt', 'w+')\n",
    "box_format = []\n",
    "\n",
    "for i in boxes.index:\n",
    "    box_format.append([boxes.loc[i, c] for c in box_features])\n",
    "\n",
    "box_format.append([''])\n",
    "\n",
    "for i in range(len(samples)):\n",
    "    while box_format[i][0] == box_format[i + 1][0]:\n",
    "        [box_format[i].append(n) for n in box_format[i + 1][1:]]\n",
    "        box_format.pop(i + 1)\n",
    "\n",
    "for i in box_format[:-1]:\n",
    "    annot_txt.write((''.join(i).strip() + '\\n'))\n",
    "\n",
    "annot_txt.close()"
   ]
  }
 ],
 "metadata": {
  "kernelspec": {
   "display_name": "Python 3",
   "language": "python",
   "name": "python3"
  },
  "language_info": {
   "codemirror_mode": {
    "name": "ipython",
    "version": 3
   },
   "file_extension": ".py",
   "mimetype": "text/x-python",
   "name": "python",
   "nbconvert_exporter": "python",
   "pygments_lexer": "ipython3",
   "version": "3.7.7"
  }
 },
 "nbformat": 4,
 "nbformat_minor": 4
}
