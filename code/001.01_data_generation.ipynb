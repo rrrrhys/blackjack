{
 "cells": [
  {
   "cell_type": "markdown",
   "metadata": {},
   "source": [
    "# 001.01 // data generation"
   ]
  },
  {
   "cell_type": "markdown",
   "metadata": {},
   "source": [
    "[take photographs of playing cards to generate a dataset of card pairings against randomly-selected backgrounds from the Oxford Describable Textures Dataset]"
   ]
  },
  {
   "cell_type": "code",
   "execution_count": null,
   "metadata": {},
   "outputs": [],
   "source": [
    "import os\n",
    "import shutil\n",
    "import random\n",
    "import pickle\n",
    "import numpy as np\n",
    "import matplotlib.pyplot as plt\n",
    "import matplotlib.image as mpimg\n",
    "from tqdm import tqdm\n",
    "from glob import glob\n",
    "import cv2\n",
    "\n",
    "import deck\n",
    "\n",
    "%matplotlib inline\n",
    "%config InlineBackend.figure_format='retina'"
   ]
  },
  {
   "cell_type": "code",
   "execution_count": null,
   "metadata": {},
   "outputs": [],
   "source": [
    "# set up data directory\n",
    "\n",
    "data_dir = '../data/card_data/'\n",
    "\n",
    "os.mkdir('../data/')\n",
    "os.mkdir(data_dir)\n",
    "os.mkdir(f'{data_dir}photos/')\n",
    "os.mkdir(f'{data_dir}cards/')\n",
    "os.mkdir('../data/images/')\n",
    "os.mkdir('../data/labels/')"
   ]
  },
  {
   "cell_type": "markdown",
   "metadata": {},
   "source": [
    "## photograph cards"
   ]
  },
  {
   "cell_type": "code",
   "execution_count": null,
   "metadata": {},
   "outputs": [],
   "source": [
    "# take photos ace through king one suit at a time on a uniform background in contrast with the card\n",
    "# make sure suit order below is same as photo order\n",
    "# put photos in dir: ../data/card_data/photos/\n",
    "\n",
    "card_names = []\n",
    "\n",
    "for suit in ['c', 'd', 'h', 's']:\n",
    "    for rank in range(1, 14):\n",
    "        card_names.append(f'{suit}{rank:02}')\n",
    "        \n",
    "len(card_names)"
   ]
  },
  {
   "cell_type": "markdown",
   "metadata": {},
   "source": [
    "## extraction"
   ]
  },
  {
   "cell_type": "code",
   "execution_count": null,
   "metadata": {},
   "outputs": [],
   "source": [
    "# measure card specs in millimeters and record below\n",
    "\n",
    "cardW=63\n",
    "cardH=87\n",
    "cornerXmin=1 # distance from edge of card to beginning of corner suit (horizontal)\n",
    "cornerXmax=8.95 # distance from edge of card to end of corner suit (horizontal)\n",
    "cornerYmin=3 # distance from edge of card to beginning of corner suit (vertical)\n",
    "cornerYmax=23 # distance from edge of card to end of corner suit (vertical)"
   ]
  },
  {
   "cell_type": "code",
   "execution_count": null,
   "metadata": {},
   "outputs": [],
   "source": [
    "photo_dir = f'{data_dir}photos/'\n",
    "card_dir = f'{data_dir}cards/'\n",
    "\n",
    "cards_pck_fn=data_dir+\"cards.pkl\"\n",
    "backgrounds_pck_fn=data_dir+\"backgrounds.pkl\"\n",
    "\n",
    "card_suits=['c', 'd', 'h', 's']\n",
    "card_ranks=['01', '02', '03', '04', '05', '06', '07', '08', '09', '10', '11', '12', '13']\n",
    "\n",
    "zoom=4\n",
    "cardW*=zoom\n",
    "cardH*=zoom\n",
    "cornerXmin=int(cornerXmin*zoom)\n",
    "cornerXmax=int(cornerXmax*zoom)\n",
    "cornerYmin=int(cornerYmin*zoom)\n",
    "cornerYmax=int(cornerYmax*zoom)\n",
    "\n",
    "refCard=np.array([[0,0],[cardW,0],[cardW,cardH],[0,cardH]],dtype=np.float32)\n",
    "refCardRot=np.array([[cardW,0],[cardW,cardH],[0,cardH],[0,0]],dtype=np.float32)\n",
    "refCornerHL=np.array([[cornerXmin,cornerYmin],[cornerXmax,cornerYmin],[cornerXmax,cornerYmax],[cornerXmin,cornerYmax]],dtype=np.float32)\n",
    "refCornerLR=np.array([[cardW-cornerXmax,cardH-cornerYmax],[cardW-cornerXmin,cardH-cornerYmax],[cardW-cornerXmin,cardH-cornerYmin],[cardW-cornerXmax,cardH-cornerYmin]],dtype=np.float32)\n",
    "refCorners=np.array([refCornerHL,refCornerLR])"
   ]
  },
  {
   "cell_type": "code",
   "execution_count": null,
   "metadata": {},
   "outputs": [],
   "source": [
    "# create mask for extraction\n",
    "\n",
    "bord_size=2\n",
    "alphamask=np.ones((cardH,cardW),dtype=np.uint8)*255\n",
    "cv2.rectangle(alphamask,(0,0),(cardW-1,cardH-1),0,bord_size)\n",
    "cv2.line(alphamask,(bord_size*3,0),(0,bord_size*3),0,bord_size)\n",
    "cv2.line(alphamask,(cardW-bord_size*3,0),(cardW,bord_size*3),0,bord_size)\n",
    "cv2.line(alphamask,(0,cardH-bord_size*3),(bord_size*3,cardH),0,bord_size)\n",
    "cv2.line(alphamask,(cardW-bord_size*3,cardH),(cardW,cardH-bord_size*3),0,bord_size)\n",
    "plt.figure(figsize=(10,10))\n",
    "plt.imshow(alphamask);"
   ]
  },
  {
   "cell_type": "code",
   "execution_count": null,
   "metadata": {},
   "outputs": [],
   "source": [
    "# extract cards from photos\n",
    "# make sure all processed properly\n",
    "\n",
    "i = 0\n",
    "filenames = sorted([f.split('.jpeg')[0] for f in os.listdir(photo_dir) if '.jpeg' in f])\n",
    "\n",
    "for f in filenames:\n",
    "    debug=False\n",
    "    img=cv2.imread(f'{photo_dir}{f}.jpeg')\n",
    "    valid,card=deck.extract_card(img, alphamask, f'{card_dir}{card_names[i]}.png', debug=debug)\n",
    "    i += 1\n",
    "    if valid:\n",
    "        deck.display_img(card)"
   ]
  },
  {
   "cell_type": "code",
   "execution_count": null,
   "metadata": {},
   "outputs": [],
   "source": [
    "# test a few cards at random to make sure corner suit is completely in bounding box\n",
    "\n",
    "imgs_fns=glob(card_dir+\"/*.png\")\n",
    "img_fn=random.choice(imgs_fns)\n",
    "deck.display_img(cv2.imread(img_fn,cv2.IMREAD_UNCHANGED),polygons=[refCornerHL,refCornerLR])"
   ]
  },
  {
   "cell_type": "code",
   "execution_count": null,
   "metadata": {},
   "outputs": [],
   "source": [
    "# test a few cards at random to make sure convex hull is properly identified\n",
    "\n",
    "debug=\"no\"\n",
    "img_fn=random.choice(imgs_fns)\n",
    "img=cv2.imread(img_fn,cv2.IMREAD_UNCHANGED)\n",
    "hullHL=deck.findHull(img,refCornerHL,debug=debug)\n",
    "hullLR=deck.findHull(img,refCornerLR,debug=debug)\n",
    "deck.display_img(img,[refCornerHL,refCornerLR,hullHL,hullLR])"
   ]
  },
  {
   "cell_type": "markdown",
   "metadata": {},
   "source": [
    "## augmentation\n",
    "\n",
    "(optional) before finalizing set of cards, use the augmentation notebook to create additional versions of a card (adjust brightness, color, contrast, etc)"
   ]
  },
  {
   "cell_type": "code",
   "execution_count": null,
   "metadata": {},
   "outputs": [],
   "source": [
    "# post-augmentation, run cell to finalize set of cards\n",
    "\n",
    "cards={}\n",
    "for suit in card_suits:\n",
    "    for rank in card_ranks:\n",
    "        card_name=suit+rank       \n",
    "        cd=os.path.join(card_dir,card_name)\n",
    "        if not os.path.isdir(cd):\n",
    "            print(f\"!!! {cd} does not exist !!!\")\n",
    "            continue\n",
    "        cards[card_name]=[]\n",
    "        for f in glob(f'{cd}/*.png'):\n",
    "            img=cv2.imread(f,cv2.IMREAD_UNCHANGED)\n",
    "            hullHL=deck.findHull(img,refCornerHL,debug=\"no\") \n",
    "            if hullHL is None: \n",
    "                print(f\"File {f} not used.\")\n",
    "                continue\n",
    "            hullLR=deck.findHull(img,refCornerLR,debug=\"no\") \n",
    "            if hullLR is None: \n",
    "                print(f\"File {f} not used.\")\n",
    "                continue\n",
    "            img=cv2.cvtColor(img,cv2.COLOR_BGRA2RGBA)\n",
    "            cards[card_name].append((img,hullHL,hullLR))\n",
    "\n",
    "\n",
    "\n",
    "print(\"saved as:\",cards_pck_fn)\n",
    "pickle.dump(cards,open(cards_pck_fn,'wb'))"
   ]
  },
  {
   "cell_type": "code",
   "execution_count": null,
   "metadata": {},
   "outputs": [],
   "source": [
    "cards = deck.Cards()"
   ]
  },
  {
   "cell_type": "code",
   "execution_count": null,
   "metadata": {},
   "outputs": [],
   "source": [
    "# test a few cards at random to make sure set is properly loaded\n",
    "\n",
    "_=cards.get_random(display=True)"
   ]
  },
  {
   "cell_type": "markdown",
   "metadata": {},
   "source": [
    "## background images"
   ]
  },
  {
   "cell_type": "code",
   "execution_count": null,
   "metadata": {},
   "outputs": [],
   "source": [
    "# download the Oxford Describable Textures Dataset (DTD)\n",
    "\n",
    "!wget https://www.robots.ox.ac.uk/~vgg/data/dtd/download/dtd-r1.0.1.tar.gz -P ../data/card_data/"
   ]
  },
  {
   "cell_type": "code",
   "execution_count": null,
   "metadata": {},
   "outputs": [],
   "source": [
    "shutil.unpack_archive(f'{data_dir}dtd-r1.0.1.tar.gz', data_dir)"
   ]
  },
  {
   "cell_type": "code",
   "execution_count": null,
   "metadata": {},
   "outputs": [],
   "source": [
    "dtd_dir=f'{data_dir}dtd/images/'\n",
    "bg_images=[]\n",
    "for subdir in glob(dtd_dir+\"/*\"):\n",
    "    for f in glob(subdir+\"/*.jpg\"):\n",
    "        bg_images.append(mpimg.imread(f))\n",
    "print(\"saved as:\",backgrounds_pck_fn)\n",
    "pickle.dump(bg_images,open(backgrounds_pck_fn,'wb'))"
   ]
  },
  {
   "cell_type": "code",
   "execution_count": null,
   "metadata": {},
   "outputs": [],
   "source": [
    "!rm -r ../data/card_data/dtd\n",
    "!rm ../data/card_data/dtd-r1.0.1.tar.gz"
   ]
  },
  {
   "cell_type": "code",
   "execution_count": null,
   "metadata": {},
   "outputs": [],
   "source": [
    "backgrounds = deck.Backgrounds()"
   ]
  },
  {
   "cell_type": "code",
   "execution_count": null,
   "metadata": {},
   "outputs": [],
   "source": [
    "# test a few backgrounds at random to make sure dataset is properly loaded\n",
    "\n",
    "_=backgrounds.get_random(display=True)"
   ]
  },
  {
   "cell_type": "code",
   "execution_count": null,
   "metadata": {
    "scrolled": false
   },
   "outputs": [],
   "source": [
    "# test sample images representative of final datatset at random\n",
    "\n",
    "bg=backgrounds.get_random()\n",
    "img1,card_val1,hulla1,hullb1=cards.get_random()\n",
    "img2,card_val2,hulla2,hullb2=cards.get_random()\n",
    "\n",
    "newimg=deck.Scene(bg,img1,card_val1,hulla1,hullb1,img2,card_val2,hulla2,hullb2)\n",
    "newimg.display()"
   ]
  },
  {
   "cell_type": "code",
   "execution_count": null,
   "metadata": {},
   "outputs": [],
   "source": [
    "# generate dataset\n",
    "\n",
    "cards_to_generate=51200\n",
    "save_dir=\"../data/images\"\n",
    "\n",
    "if not os.path.isdir(save_dir):\n",
    "    os.makedirs(save_dir)\n",
    "\n",
    "for i in tqdm(range(cards_to_generate)):\n",
    "    bg=backgrounds.get_random()\n",
    "    img1,card_val1,hulla1,hullb1=cards.get_random()\n",
    "    img2,card_val2,hulla2,hullb2=cards.get_random()\n",
    "    \n",
    "    newimg=deck.Scene(bg,img1,card_val1,hulla1,hullb1,img2,card_val2,hulla2,hullb2)\n",
    "    newimg.write_files(save_dir)"
   ]
  },
  {
   "cell_type": "markdown",
   "metadata": {},
   "source": [
    "## augmentation\n",
    "\n",
    "(optional) use the augmentation notebook to convert images to grayscale"
   ]
  }
 ],
 "metadata": {
  "kernelspec": {
   "display_name": "Python 3",
   "language": "python",
   "name": "python3"
  },
  "language_info": {
   "codemirror_mode": {
    "name": "ipython",
    "version": 3
   },
   "file_extension": ".py",
   "mimetype": "text/x-python",
   "name": "python",
   "nbconvert_exporter": "python",
   "pygments_lexer": "ipython3",
   "version": "3.7.7"
  }
 },
 "nbformat": 4,
 "nbformat_minor": 4
}
