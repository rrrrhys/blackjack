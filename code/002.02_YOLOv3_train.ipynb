{
 "cells": [
  {
   "cell_type": "markdown",
   "metadata": {},
   "source": [
    "# 002.02 // YOLOv3 train"
   ]
  },
  {
   "cell_type": "markdown",
   "metadata": {},
   "source": [
    "[train model on google colab GPU]"
   ]
  },
  {
   "cell_type": "markdown",
   "metadata": {},
   "source": [
    "### >>>run in google colab:\n",
    "\n",
    "https://colab.research.google.com/drive/15ftOi8rDpfsJ51s_4an6rXcdWrSP22uz?usp=sharing"
   ]
  },
  {
   "cell_type": "code",
   "execution_count": null,
   "metadata": {},
   "outputs": [],
   "source": [
    "# import tensorflow and confirm GPU\n",
    "\n",
    "%tensorflow_version 1.x\n",
    "import tensorflow as tf\n",
    "device_name = tf.test.gpu_device_name()\n",
    "if device_name != '/device:GPU:0':\n",
    "  raise SystemError('GPU device not found')\n",
    "print('Found GPU at: {}'.format(device_name))"
   ]
  },
  {
   "cell_type": "code",
   "execution_count": null,
   "metadata": {},
   "outputs": [],
   "source": [
    "!pip install keras=='2.1.5'"
   ]
  },
  {
   "cell_type": "code",
   "execution_count": null,
   "metadata": {},
   "outputs": [],
   "source": [
    "# GPU info\n",
    "\n",
    "gpu_info = !nvidia-smi\n",
    "gpu_info = '\\n'.join(gpu_info)\n",
    "if gpu_info.find('failed') >= 0:\n",
    "  print('Select the Runtime > \"Change runtime type\" menu to enable a GPU accelerator, ')\n",
    "  print('and then re-execute this cell.')\n",
    "else:\n",
    "  print(gpu_info)"
   ]
  },
  {
   "cell_type": "code",
   "execution_count": null,
   "metadata": {},
   "outputs": [],
   "source": [
    "# # upload blackjack.tar.gz\n",
    "\n",
    "# # option 1 // local file:\n",
    "\n",
    "# from google.colab import files\n",
    "# files.upload()\n",
    "\n",
    "\n",
    "# # option 2 // Google Drive (faster):\n",
    "# # [load blackjack.tar.gz onto Google Drive]\n",
    "\n",
    "# import sys\n",
    "# from pathlib import Path\n",
    "# from google.colab import drive\n",
    "\n",
    "# drive.mount('/content/drive/', force_remount=True)\n",
    "# base = Path('/content/drive/My Drive/')\n",
    "# sys.path.append(str(base))\n",
    "\n",
    "# path = base/'blackjack.tar.gz'\n",
    "# !cp '{path}' ."
   ]
  },
  {
   "cell_type": "code",
   "execution_count": null,
   "metadata": {},
   "outputs": [],
   "source": [
    "# # upack blackjack.tar.gz\n",
    "\n",
    "# import shutil\n",
    "# shutil.unpack_archive('blackjack.tar.gz', 'blackjack/')"
   ]
  },
  {
   "cell_type": "code",
   "execution_count": null,
   "metadata": {},
   "outputs": [],
   "source": [
    "# # remove blackjack.tar.gz\n",
    "\n",
    "# !rm blackjack.tar.gz"
   ]
  },
  {
   "cell_type": "code",
   "execution_count": null,
   "metadata": {},
   "outputs": [],
   "source": [
    "# %cd blackjack/code/"
   ]
  },
  {
   "cell_type": "code",
   "execution_count": null,
   "metadata": {},
   "outputs": [],
   "source": [
    "run train.py"
   ]
  },
  {
   "cell_type": "code",
   "execution_count": null,
   "metadata": {},
   "outputs": [],
   "source": [
    "# # download final weights\n",
    "\n",
    "# from google.colab import files\n",
    "# files.download('../logs/trained_weights_final.h5')"
   ]
  }
 ],
 "metadata": {
  "kernelspec": {
   "display_name": "Python 3",
   "language": "python",
   "name": "python3"
  },
  "language_info": {
   "codemirror_mode": {
    "name": "ipython",
    "version": 3
   },
   "file_extension": ".py",
   "mimetype": "text/x-python",
   "name": "python",
   "nbconvert_exporter": "python",
   "pygments_lexer": "ipython3",
   "version": "3.7.7"
  }
 },
 "nbformat": 4,
 "nbformat_minor": 4
}
