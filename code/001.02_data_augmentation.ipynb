{
 "cells": [
  {
   "cell_type": "markdown",
   "metadata": {},
   "source": [
    "# 001.02 // data augmentation"
   ]
  },
  {
   "cell_type": "markdown",
   "metadata": {},
   "source": [
    "[augment card and dataset images]"
   ]
  },
  {
   "cell_type": "code",
   "execution_count": null,
   "metadata": {},
   "outputs": [],
   "source": [
    "import os\n",
    "import shutil\n",
    "import numpy as np\n",
    "from PIL import Image, ImageEnhance, ImageOps"
   ]
  },
  {
   "cell_type": "code",
   "execution_count": null,
   "metadata": {},
   "outputs": [],
   "source": [
    "card_dir = '../data/card_data/cards/'\n",
    "img_dir = '../data/images/'"
   ]
  },
  {
   "cell_type": "code",
   "execution_count": null,
   "metadata": {},
   "outputs": [],
   "source": [
    "card_names = []\n",
    "\n",
    "for suit in ['c', 'd', 'h', 's']:\n",
    "    for rank in range(1, 14):\n",
    "        card_names.append(f'{suit}{rank:02}')\n",
    "        \n",
    "len(card_names)"
   ]
  },
  {
   "cell_type": "code",
   "execution_count": null,
   "metadata": {},
   "outputs": [],
   "source": [
    "# set up card directory\n",
    "\n",
    "for c in card_names:\n",
    "    os.mkdir(f'{card_dir}{c}')"
   ]
  },
  {
   "cell_type": "code",
   "execution_count": null,
   "metadata": {},
   "outputs": [],
   "source": [
    "images = sorted([i.split('.png')[0] for i in os.listdir(card_dir) if '.png' in i])\n",
    "\n",
    "for i in images:\n",
    "    if i in card_names:\n",
    "        shutil.move(f'{card_dir}{i}.png', f'{card_dir}{i}/{i}.png')"
   ]
  },
  {
   "cell_type": "code",
   "execution_count": null,
   "metadata": {},
   "outputs": [],
   "source": [
    "# adjust card brightness\n",
    "\n",
    "def adjust_brightness(path_in, path_out, card, file_type):\n",
    "    c = 1\n",
    "    for n in np.linspace(0.75, 1.5, 10):\n",
    "        im = Image.open(f'{path_in}{card}{file_type}')\n",
    "        im = ImageEnhance.Brightness(im).enhance(n)\n",
    "        im.save(f'{path_out}{card}.B{c:02}{file_type}')\n",
    "        im.close()\n",
    "        c += 1"
   ]
  },
  {
   "cell_type": "code",
   "execution_count": null,
   "metadata": {},
   "outputs": [],
   "source": [
    "[adjust_brightness(f'{card_dir}{c}/', f'{card_dir}{c}/', c, '.png') for c in card_names];"
   ]
  },
  {
   "cell_type": "code",
   "execution_count": null,
   "metadata": {},
   "outputs": [],
   "source": [
    "# # adjust card contrast\n",
    "\n",
    "# def adjust_contrast(path_in, path_out, card, file_type):\n",
    "#     c = 1\n",
    "#     for n in np.linspace(0.75, 1.5, 5):\n",
    "#         im = Image.open(f'{path_in}{card}{file_type}')\n",
    "#         im = ImageEnhance.Contrast(im).enhance(n)\n",
    "#         im.save(f'{path_out}{card}.CT{c:02}{file_type}')\n",
    "#         im.close()\n",
    "#         c += 1"
   ]
  },
  {
   "cell_type": "code",
   "execution_count": null,
   "metadata": {},
   "outputs": [],
   "source": [
    "# # adjust card color\n",
    "\n",
    "# def adjust_color(path_in, path_out, card, file_type):\n",
    "#     c = 1\n",
    "#     for n in np.linspace(0.75, 1.5, 5):\n",
    "#         im = Image.open(f'{path_in}{card}{file_type}')\n",
    "#         im = ImageEnhance.Color(im).enhance(n)\n",
    "#         im.save(f'{path_out}{card}.CO{c:02}{file_type}')\n",
    "#         im.close()\n",
    "#         c += 1"
   ]
  },
  {
   "cell_type": "code",
   "execution_count": null,
   "metadata": {},
   "outputs": [],
   "source": [
    "# convert images to grayscale\n",
    "\n",
    "os.mkdir('../data/images_gs/')\n",
    "\n",
    "filenames = sorted([i.split('.jpg')[0] for i in os.listdir(img_dir) if '.jpg' in i])\n",
    "\n",
    "def grayscale(path_in, path_out, file, file_type):\n",
    "    im = Image.open(f'{path_in}{file}{file_type}')\n",
    "    im = ImageOps.grayscale(im)\n",
    "    im.save(f'{path_out}{file}{file_type}')\n",
    "    im.close()"
   ]
  },
  {
   "cell_type": "code",
   "execution_count": null,
   "metadata": {},
   "outputs": [],
   "source": [
    "[grayscale(img_dir, f'../data/images_gs/', f, '.jpg') for f in filenames];"
   ]
  }
 ],
 "metadata": {
  "kernelspec": {
   "display_name": "Python 3",
   "language": "python",
   "name": "python3"
  },
  "language_info": {
   "codemirror_mode": {
    "name": "ipython",
    "version": 3
   },
   "file_extension": ".py",
   "mimetype": "text/x-python",
   "name": "python",
   "nbconvert_exporter": "python",
   "pygments_lexer": "ipython3",
   "version": "3.7.7"
  }
 },
 "nbformat": 4,
 "nbformat_minor": 4
}
